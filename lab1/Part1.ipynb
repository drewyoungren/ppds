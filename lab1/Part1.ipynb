{
 "cells": [
  {
   "cell_type": "code",
   "execution_count": 1,
   "metadata": {
    "colab": {},
    "colab_type": "code",
    "id": "cGYKtIjXnI-i"
   },
   "outputs": [],
   "source": [
    "%matplotlib inline\n",
    "import numpy as np\n",
    "import matplotlib.pyplot as plt\n",
    "import pandas as pd"
   ]
  },
  {
   "cell_type": "markdown",
   "metadata": {
    "colab_type": "text",
    "id": "tLl9eNDILqVk"
   },
   "source": [
    "# Riemann Sums, Integration, and Messy Data"
   ]
  },
  {
   "cell_type": "markdown",
   "metadata": {
    "colab": {
     "base_uri": "https://localhost:8080/",
     "height": 156
    },
    "colab_type": "code",
    "executionInfo": {
     "elapsed": 399,
     "status": "error",
     "timestamp": 1561257496086,
     "user": {
      "displayName": "Evan Leon Tilley",
      "photoUrl": "",
      "userId": "15033102487020459689"
     },
     "user_tz": 240
    },
    "id": "nm1bvHN6nI-k",
    "outputId": "b946cad5-909b-409e-ad56-250b52e1aebe"
   },
   "source": [
    "**Main problem.** You run a small lab analyzing ice cores from the Good Humor Glacier in Greenland. You keep the sample in a large $2\\text{m}\\times 2\\text{m}\\times 3\\text{m}$ freezer. To make sure it is keeping the samples properly cold, you need to know its average temperature.\n",
    "You task your grad student with measuring this and send them in with a digital thermometer. \n",
    "\n",
    "They return with a data set of 60 temperature readings and report and an average reading of $20.565^\\circ$. You take one look at the data and know immediately it is bunk. How? "
   ]
  },
  {
   "cell_type": "markdown",
   "metadata": {
    "colab_type": "text",
    "id": "YGgw6MXcLqWE"
   },
   "source": [
    "### Learning Objectives\n",
    "\n",
    "At the conclusion of this workshop, you should be able to:\n",
    "  - write a Riemann sum estimation of double and triple integrals using $\\Sigma$-notation\n",
    "  - use `numpy` to estimate an integral using a number of different schema\n",
    "  - use `pandas` to view, sort, and do some simple filtering of a data set\n",
    "  - explore a few regression models via `scikit-learn`"
   ]
  },
  {
   "cell_type": "markdown",
   "metadata": {
    "colab_type": "text",
    "id": "4w7-iozdnI-n"
   },
   "source": [
    "Recall that a Riemann sum for a double integral has the form \n",
    "\n",
    "$$\\iint_D f \\,dA \\approx \\sum_{i,j} f(x_{ij}^*,y_{ij}^*) \\Delta A_{ij}$$\n",
    "\n",
    "where $(x_{ij}^*,y_{ij}^*)$ is a point in the rectangle with indices $i,j$ and $\\Delta A_{ij}$ is its area."
   ]
  },
  {
   "cell_type": "markdown",
   "metadata": {
    "colab_type": "text",
    "id": "coRvGW0LnI-n"
   },
   "source": [
    "## Northeast Rule\n",
    "\n",
    "In the case that our domain is the rectangle $[a,b]\\times [c,d]$ is divided into $n^2$ subrectangles and we use the \"northeast\" corner of each rectangle as our sample point, this can be further specified with $\\Delta x = \\frac{b-a}{n}, \\Delta y = \\frac{d-c}{n}$,  \n",
    "\n",
    "$$\\sum_{i=1}^n \\sum_{j=1}^n f\\left( a + i \\Delta x,c + j \\Delta y \\right) \\Delta x \\Delta y$$"
   ]
  },
  {
   "cell_type": "markdown",
   "metadata": {
    "colab_type": "text",
    "id": "sBXYNH61nI-o"
   },
   "source": [
    "We implement this as follows."
   ]
  },
  {
   "cell_type": "code",
   "execution_count": 3,
   "metadata": {
    "colab": {},
    "colab_type": "code",
    "id": "bgCdkiHInI-p"
   },
   "outputs": [],
   "source": [
    "def northeast_rule(f,a,b,c,d,n):\n",
    "    '''An approximation of the integral of f over domain (a,b) x (c,d) by n^2 rectangles using \n",
    "    the upper-right corner as the sample point.'''\n",
    "    dx = (b-a) / n\n",
    "    dy = (d-c) / n\n",
    "    return sum([f(a + i * dx,c + j * dy) for i in range(1,n+1) for j in range(1,n+1)])*dx*dy"
   ]
  },
  {
   "cell_type": "markdown",
   "metadata": {},
   "source": [
    "Now, we test it by approximating $$\\int_0^1 \\int_0^1 \\left(x^2 + y^2 \\right) \\,dy\\,dx.$$\n",
    "\n",
    "**Quick Exercise**. What is the exact answer?"
   ]
  },
  {
   "cell_type": "code",
   "execution_count": 5,
   "metadata": {
    "colab": {
     "base_uri": "https://localhost:8080/",
     "height": 34
    },
    "colab_type": "code",
    "executionInfo": {
     "elapsed": 729,
     "status": "ok",
     "timestamp": 1559066925742,
     "user": {
      "displayName": "Drew C. Youngren",
      "photoUrl": "https://lh3.googleusercontent.com/-qXJrmHzPUEk/AAAAAAAAAAI/AAAAAAAAAUk/TNKdeZJCQMc/s64/photo.jpg",
      "userId": "07174147686106130414"
     },
     "user_tz": 240
    },
    "id": "r1snAxN-nI-r",
    "outputId": "e39e0591-3c3e-46a1-c31c-18f0e4e48d5f"
   },
   "outputs": [
    {
     "data": {
      "text/plain": [
       "0.6676670000000015"
      ]
     },
     "execution_count": 5,
     "metadata": {},
     "output_type": "execute_result"
    }
   ],
   "source": [
    "def p(x,y): return x**2 + y**2\n",
    "    \n",
    "northeast_rule(p,0,1,0,1,1000)"
   ]
  },
  {
   "cell_type": "markdown",
   "metadata": {
    "colab_type": "text",
    "id": "gS5iyzjJnI-w"
   },
   "source": [
    "## Exercise 1.\n",
    "Implement the Riemann sum using the \"southeast\" corner as sample point."
   ]
  },
  {
   "cell_type": "code",
   "execution_count": 6,
   "metadata": {
    "colab": {},
    "colab_type": "code",
    "id": "olqvGS2gnI-x"
   },
   "outputs": [],
   "source": [
    "def southeast_rule(f,a,b,c,d,n):\n",
    "    '''An approximation of the integral of f over domain (a,b) x (c,d) by n^2 rectangles using \n",
    "    the lower-left corner as the sample point.'''\n",
    "    ### BEGIN SOLUTION\n",
    "    dx = (b-a) / n\n",
    "    dy = (d-c) / n\n",
    "    return sum([f(a + i * dx,c + j * dy) for i in range(1,n+1) for j in range(n)])*dx*dy\n",
    "    ### END SOLUTION"
   ]
  },
  {
   "cell_type": "code",
   "execution_count": 8,
   "metadata": {
    "colab": {
     "base_uri": "https://localhost:8080/",
     "height": 34
    },
    "colab_type": "code",
    "executionInfo": {
     "elapsed": 780,
     "status": "ok",
     "timestamp": 1559066931918,
     "user": {
      "displayName": "Drew C. Youngren",
      "photoUrl": "https://lh3.googleusercontent.com/-qXJrmHzPUEk/AAAAAAAAAAI/AAAAAAAAAUk/TNKdeZJCQMc/s64/photo.jpg",
      "userId": "07174147686106130414"
     },
     "user_tz": 240
    },
    "id": "Z1jWjLdznI-z",
    "outputId": "c7f871cb-1abd-4ed1-dc53-63e0e67cd669"
   },
   "outputs": [
    {
     "data": {
      "text/plain": [
       "0.6666670000000005"
      ]
     },
     "execution_count": 8,
     "metadata": {},
     "output_type": "execute_result"
    }
   ],
   "source": [
    "southeast_rule(p,0,1,0,1,1000)"
   ]
  },
  {
   "cell_type": "markdown",
   "metadata": {
    "colab_type": "text",
    "id": "iFhIoBEHnI-1"
   },
   "source": [
    "## Exercise 2.\n",
    "\n",
    "Now implement the sum with the middle point of the rectangle."
   ]
  },
  {
   "cell_type": "code",
   "execution_count": 9,
   "metadata": {
    "colab": {},
    "colab_type": "code",
    "id": "3-v69IBanI-2",
    "nbgrader": {
     "grade": false,
     "grade_id": "cell-18205ff5181ca9a5",
     "locked": false,
     "schema_version": 1,
     "solution": true
    }
   },
   "outputs": [],
   "source": [
    "def midpoint_rule(f,a,b,c,d,n):\n",
    "    '''An approximation of the integral of f over domain (a,b) x (c,d) by n^2 rectangles.'''\n",
    "    ### BEGIN SOLUTION\n",
    "    dx = (b-a) / n\n",
    "    dy = (d-c) / n\n",
    "    return sum([f(a + (i+1/2) * dx,c + (j+1/2) * dy) for i in range(n) for j in range(n)])*dx*dy\n",
    "    ###END SOLUTION"
   ]
  },
  {
   "cell_type": "code",
   "execution_count": 11,
   "metadata": {
    "colab": {
     "base_uri": "https://localhost:8080/",
     "height": 34
    },
    "colab_type": "code",
    "executionInfo": {
     "elapsed": 937,
     "status": "ok",
     "timestamp": 1559066967988,
     "user": {
      "displayName": "Drew C. Youngren",
      "photoUrl": "https://lh3.googleusercontent.com/-qXJrmHzPUEk/AAAAAAAAAAI/AAAAAAAAAUk/TNKdeZJCQMc/s64/photo.jpg",
      "userId": "07174147686106130414"
     },
     "user_tz": 240
    },
    "id": "T0Tw2lGonI-4",
    "outputId": "a848e191-cdfa-4098-f046-8056da1d9e90",
    "scrolled": true
   },
   "outputs": [
    {
     "data": {
      "text/plain": [
       "0.6666665000000263"
      ]
     },
     "execution_count": 11,
     "metadata": {},
     "output_type": "execute_result"
    }
   ],
   "source": [
    "midpoint_rule(p,0,1,0,1,1000)"
   ]
  },
  {
   "cell_type": "markdown",
   "metadata": {
    "colab": {},
    "colab_type": "code",
    "id": "mqf3XPDRnJA9"
   },
   "source": [
    "## Exercise 3.\n",
    "\n",
    "To cut down on variables, in the above, both axes were divided into an equal number of subintervals, but of course, we can treat each axis independently. \n",
    "\n",
    "Rewrite the midpoint rule above to divide the region into $m\\times n$ subrectangles."
   ]
  },
  {
   "cell_type": "code",
   "execution_count": 9,
   "metadata": {
    "colab": {},
    "colab_type": "code",
    "id": "3-v69IBanI-2",
    "nbgrader": {
     "grade": false,
     "grade_id": "cell-18205ff5181ca9a5",
     "locked": false,
     "schema_version": 1,
     "solution": true
    }
   },
   "outputs": [],
   "source": [
    "def midpoint_rule_mn(f,a,b,c,d,m,n):\n",
    "    '''An approximation of the integral of f over domain (a,b) x (c,d) by n^2 rectangles.'''\n",
    "    ### BEGIN SOLUTION\n",
    "    dx = (b-a) / m\n",
    "    dy = (d-c) / n\n",
    "    return sum([f(a + (i+1/2) * dx,c + (j+1/2) * dy) for i in range(m) for j in range(n)])*dx*dy\n",
    "    ###END SOLUTION"
   ]
  },
  {
   "cell_type": "markdown",
   "metadata": {},
   "source": [
    "<hr>\n",
    "\n",
    "## Extension - Other methods"
   ]
  },
  {
   "cell_type": "markdown",
   "metadata": {},
   "source": [
    "Recall that in one-variable calulus, we had higher-order methods of integration, such as the trapezoid rule."
   ]
  },
  {
   "cell_type": "code",
   "execution_count": 3,
   "metadata": {},
   "outputs": [],
   "source": [
    "def trapezoid_rule(f,a,b,n):\n",
    "    '''Estimate the integral of f over the interval [a,b] using the trapezoid rule.'''\n",
    "    dx = (b - a)/n\n",
    "    return ((f(a) + f(b))/2 + sum([f(a + i*dx) for i in range(1,n)]))*dx"
   ]
  },
  {
   "cell_type": "code",
   "execution_count": 13,
   "metadata": {},
   "outputs": [
    {
     "data": {
      "text/plain": [
       "0.07142857793859678"
      ]
     },
     "execution_count": 13,
     "metadata": {},
     "output_type": "execute_result"
    }
   ],
   "source": [
    "trapezoid_rule(lambda x: x**13,0,1,12900)"
   ]
  },
  {
   "cell_type": "markdown",
   "metadata": {},
   "source": [
    "### Questions\n",
    "\n",
    "  - How would you extend the trapezoid rule to the 2- and 3-variable cases? \n",
    "  - What about Simpson's rule?\n",
    "  \n",
    "These don't have very cut-and-dried answers. "
   ]
  },
  {
   "cell_type": "markdown",
   "metadata": {},
   "source": [
    "### Modern Methods\n",
    "\n",
    "Numerical integration is often referred to by its old-timey name *quadrature*. There are far more accurate and efficient methods than are exhibited here (feel free to explore the rabbit-hole of [Gaussian Quadrature](http://mathworld.wolfram.com/GaussianQuadrature.html)).\n",
    "\n",
    "That said, you can implement them easily using the SciPy module, specifically the `quad`, `dblquad`, and `tplquad` functions. \n",
    "\n",
    "In addition to using advanced methods, these functions can handle non-rectangular domains by passing functions as limits of integration. "
   ]
  },
  {
   "cell_type": "code",
   "execution_count": 14,
   "metadata": {},
   "outputs": [],
   "source": [
    "from scipy.integrate import quad, dblquad, tplquad"
   ]
  },
  {
   "cell_type": "code",
   "execution_count": 19,
   "metadata": {},
   "outputs": [
    {
     "data": {
      "text/plain": [
       "(2.0, 2.220446049250313e-14)"
      ]
     },
     "execution_count": 19,
     "metadata": {},
     "output_type": "execute_result"
    }
   ],
   "source": [
    "quad(lambda x: x**3 + 3.5*x ,0,1)"
   ]
  },
  {
   "cell_type": "markdown",
   "metadata": {},
   "source": [
    "The first number returned in the estimate of the integral. The second (usually quite small) number is the estimate of the absolute error."
   ]
  },
  {
   "cell_type": "markdown",
   "metadata": {},
   "source": [
    "Here is computation of the triple integral \n",
    "\n",
    "$$\\int_0^1 \\int_0^{1-x} \\int_0^{x^2 + y^2} 9z\\,dz\\,dy\\,dx $$"
   ]
  },
  {
   "cell_type": "code",
   "execution_count": 28,
   "metadata": {},
   "outputs": [
    {
     "data": {
      "text/plain": [
       "(0.35, 4.9527977917301234e-14)"
      ]
     },
     "execution_count": 28,
     "metadata": {},
     "output_type": "execute_result"
    }
   ],
   "source": [
    "def g(x): return 1-x\n",
    "def h(x,y): return x**2 + y**2\n",
    "def k(z,y,x): return 9*z\n",
    "\n",
    "tplquad(k,0,1,0,g,0,h)"
   ]
  },
  {
   "cell_type": "code",
   "execution_count": null,
   "metadata": {},
   "outputs": [],
   "source": []
  }
 ],
 "metadata": {
  "colab": {
   "collapsed_sections": [],
   "name": "Riemann Sums.ipynb",
   "provenance": [],
   "version": "0.3.2"
  },
  "kernelspec": {
   "display_name": "Python 3",
   "language": "python",
   "name": "python3"
  },
  "language_info": {
   "codemirror_mode": {
    "name": "ipython",
    "version": 3
   },
   "file_extension": ".py",
   "mimetype": "text/x-python",
   "name": "python",
   "nbconvert_exporter": "python",
   "pygments_lexer": "ipython3",
   "version": "3.7.3"
  }
 },
 "nbformat": 4,
 "nbformat_minor": 1
}
